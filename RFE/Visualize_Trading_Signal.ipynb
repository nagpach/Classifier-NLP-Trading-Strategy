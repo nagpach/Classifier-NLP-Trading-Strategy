{
 "cells": [
  {
   "cell_type": "markdown",
   "metadata": {},
   "source": [
    "# Visualize Trading Signal for different classifiers"
   ]
  },
  {
   "cell_type": "code",
   "execution_count": 2,
   "metadata": {
    "collapsed": false
   },
   "outputs": [
    {
     "name": "stdout",
     "output_type": "stream",
     "text": [
      "Available data: Ticker(IYZ) from 2000-05-26 to 2015-12-08\n",
      "Usable data: Ticker(IYZ) from 2001-03-14 to 2015-12-08 \n",
      "Returned data: Ticker(IYZ) from 2010-01-04 to 2015-12-01 \n",
      "Save path: data/IYZ_from_2010-01-04_2015-12-01.csv\n"
     ]
    }
   ],
   "source": [
    "%matplotlib inline\n",
    "%run talibref.py\n",
    "import numpy as np\n",
    "import scipy as sp\n",
    "import matplotlib as mpl\n",
    "import matplotlib.cm as cm\n",
    "import matplotlib.pyplot as plt\n",
    "import pandas as pd\n",
    "pd.set_option('display.width', 500)\n",
    "pd.set_option('display.max_columns', 100)\n",
    "pd.set_option('display.notebook_repr_html', True)\n",
    "import seaborn as sns\n",
    "sns.set_style(\"whitegrid\")\n",
    "sns.set_context(\"poster\")\n",
    "import time, datetime\n",
    "\n",
    "ticker = 'IYZ'\n",
    "startdate=datetime.date(2010, 1, 1)\n",
    "enddate = datetime.date(2015, 12, 1)\n",
    "df = generate_ticker_data(ticker, startdate, enddate)\n",
    "dftouse=df.copy()\n",
    "\n",
    "IGNORE = ['date', 'result_1','close_1','perf_1','result_14','close_14','perf_14','results']\n",
    "\n",
    "INDICATORS=[]\n",
    "for v in df.columns:\n",
    "    l=df[v].unique()\n",
    "    if len(l) <= 10 and v not in IGNORE:\n",
    "        #print v, l\n",
    "        INDICATORS.append(v)\n",
    "\n",
    "STANDARDIZABLE = []\n",
    "for v in df.columns:\n",
    "    if v not in INDICATORS and v not in IGNORE:\n",
    "        #print v\n",
    "        STANDARDIZABLE.append(v)\n",
    "dftouse['date'] = pd.to_datetime(dftouse['date'])\n",
    "mask = (dftouse.date < '2015-01-01').values\n",
    "\n",
    "from sklearn.preprocessing import StandardScaler\n",
    "scaler = StandardScaler()\n",
    "scaler.fit(dftouse[mask][STANDARDIZABLE])\n",
    "dftouse[STANDARDIZABLE] = scaler.transform(dftouse[STANDARDIZABLE])\n",
    "\n",
    "lcols=[]\n",
    "for c in list(dftouse.columns):\n",
    "    if c not in IGNORE: \n",
    "        lcols.append(c)\n",
    "def cv_optimize(clf, parameters, X, y, n_folds, score_func):\n",
    "    fitmodel = GridSearchCV(clf, param_grid=parameters, cv=n_folds, scoring=score_func)\n",
    "    fitmodel.fit(X, y)\n",
    "    return fitmodel.best_estimator_\n",
    "\n",
    "def do_classify(clf, parameters, indf, featurenames, targetname, target1val, mask=None, reuse_split=None, score_func=None, n_folds=5):\n",
    "    subdf=indf[featurenames]\n",
    "    X=subdf.values\n",
    "    y=(indf[targetname].values==target1val)*1\n",
    "    if mask is not None:\n",
    "        Xtrain, Xtest, ytrain, ytest = X[mask], X[~mask], y[mask], y[~mask]\n",
    "    if reuse_split is not None:\n",
    "        Xtrain, Xtest, ytrain, ytest = reuse_split['Xtrain'], reuse_split['Xtest'], reuse_split['ytrain'], reuse_split['ytest']\n",
    "    if parameters:\n",
    "        clf = cv_optimize(clf, parameters, Xtrain, ytrain, n_folds=n_folds, score_func=score_func)\n",
    "    clf=clf.fit(Xtrain, ytrain)\n",
    "    return clf\n",
    "\n",
    "X=dftouse[lcols].values\n",
    "y=dftouse['results'].values\n",
    "Xtrain, Xtest, ytrain, ytest = X[mask], X[~mask], y[mask], y[~mask]  \n",
    "reuse_split=dict(Xtrain=Xtrain, Xtest=Xtest, ytrain=ytrain, ytest=ytest)"
   ]
  },
  {
   "cell_type": "markdown",
   "metadata": {},
   "source": [
    "## Test all classifiersres using SelectKbest"
   ]
  },
  {
   "cell_type": "code",
   "execution_count": 7,
   "metadata": {
    "collapsed": false
   },
   "outputs": [],
   "source": [
    "from sklearn.grid_search import GridSearchCV\n",
    "from sklearn.pipeline import Pipeline\n",
    "from sklearn.feature_selection import SelectKBest, f_regression\n",
    "from sklearn.linear_model import LogisticRegression\n",
    "\n",
    "def evaluate_performance(clf, signal_col='pred', strategy=[1], commission=False, price_column='close'):\n",
    "    df_pred = df[~mask].reset_index(drop=True)\n",
    "    df_pred['baseline'] = np.ones(df_pred.shape[0])\n",
    "    df_pred['pred'] = clf.predict(Xtest)\n",
    "    \n",
    "    #datetime.date(2015, 7, 1)\n",
    "    _,_,ROI,balance_over_time,signals = evaluate_profit(df_pred, firstday(df_pred), lastday(df_pred), 10000, signal_col, \n",
    "                                                        price_column, commission, strategy)\n",
    "    return ROI, balance_over_time, signals\n",
    "\n",
    "def evaluate_features(clfpipe):     \n",
    "    return clfpipe.get_params()['selectk__k'], np.array(lcols)[clfpipe.named_steps['selectk'].get_support()].tolist()\n",
    "\n",
    "def plot_signal(title, signals):\n",
    "    fig, (ax0) = plt.subplots(nrows=1, ncols=1, figsize=(20, 8))\n",
    "    ax0.plot(df.date[~mask], df.close[~mask], lw=1)\n",
    "    \n",
    "    short_days=zip(*signals[0])[0]\n",
    "    short_prices=zip(*signals[0])[1]\n",
    "    long_days=zip(*signals[1])[0]\n",
    "    long_prices=zip(*signals[1])[1]\n",
    "    ax0.scatter(long_days, long_prices, color='g', label=\"Long Signals\") \n",
    "    ax0.scatter(short_days, short_prices, color='r', label=\"Short Signals\")\n",
    "    ax0.legend(frameon=False, loc='upper right')\n",
    "    ax0.set_title(title)\n",
    "\n",
    "def print_result(clf, name):\n",
    "    print \"train accuracy: {0}\".format(clf.score(Xtrain, ytrain))\n",
    "    print \"test accuracy: {0}\".format(clf.score(Xtest, ytest))\n",
    "    print evaluate_features(clf)\n",
    "    ROI0, BOT0, signals0 = evaluate_performance(clf, strategy=[1], signal_col=\"baseline\")\n",
    "    print \"ROI baseline:{0}\".format(ROI0)\n",
    "    ROI1, BOT1, signals1 = evaluate_performance(clf, strategy=[1])\n",
    "    print \"ROI long-only: {0}\".format(ROI1)\n",
    "    ROI2, BOT2, signals2 = evaluate_performance(clf, strategy=[0])\n",
    "    print \"ROI short-only: {0}\".format(ROI2)\n",
    "    ROI3, BOT3, signals3 = evaluate_performance(clf, strategy=[1,0])\n",
    "    print \"ROI long-short: {0}\".format(ROI3)\n",
    "    \n",
    "    Long_ROI_result[name] = ROI1\n",
    "    Short_ROI_result[name] = ROI2\n",
    "    LS_ROI_result[name] = ROI3"
   ]
  },
  {
   "cell_type": "code",
   "execution_count": 8,
   "metadata": {
    "collapsed": true
   },
   "outputs": [],
   "source": [
    "from sklearn.neighbors import KNeighborsClassifier\n",
    "from sklearn.svm import SVC\n",
    "from sklearn.svm import LinearSVC\n",
    "from sklearn.tree import DecisionTreeClassifier\n",
    "from sklearn.linear_model import LogisticRegression\n",
    "from sklearn.ensemble import RandomForestClassifier, AdaBoostClassifier\n",
    "from sklearn.naive_bayes import GaussianNB\n",
    "from sklearn.naive_bayes import MultinomialNB\n",
    "from sklearn.ensemble import GradientBoostingClassifier\n",
    "from sklearn.ensemble import ExtraTreesClassifier\n",
    "from sklearn.metrics import f1_score"
   ]
  },
  {
   "cell_type": "markdown",
   "metadata": {},
   "source": [
    "## Run all classifiersres using SelectKbest"
   ]
  },
  {
   "cell_type": "code",
   "execution_count": 9,
   "metadata": {
    "collapsed": true
   },
   "outputs": [],
   "source": [
    "Signal_Column = u'results'\n",
    "Long_ROI_result={}\n",
    "Short_ROI_result={}\n",
    "LS_ROI_result={}\n",
    "selectk = SelectKBest(score_func=f_regression)"
   ]
  },
  {
   "cell_type": "code",
   "execution_count": 10,
   "metadata": {
    "collapsed": false
   },
   "outputs": [
    {
     "name": "stdout",
     "output_type": "stream",
     "text": [
      "#############====================== Log Regression =====================#############\n",
      "0.1\n",
      "train accuracy: 0.693958664547\n",
      "test accuracy: 0.714285714286\n",
      "(4, ['bb_pct', 'cci', 'rsi', 'stoch_slowk'])\n",
      "ROI baseline:0.018359966\n",
      "ROI long-only: 0.1681285893\n",
      "ROI short-only: 0.1419936364\n",
      "ROI long-short: 0.3340181447\n"
     ]
    }
   ],
   "source": [
    "print \"#############====================== Log Regression =====================#############\"\n",
    "selectk = SelectKBest(score_func=f_regression)\n",
    "pipeLR = Pipeline([('selectk', selectk), ('LR', LogisticRegression(penalty=\"l1\"))])\n",
    "pipeLR = do_classify(pipeLR, {\"selectk__k\":range(1, 11), \n",
    "                              \"LR__C\": [1e-3, 1e-2, 1e-1, 1, 1e2]}, \n",
    "                     dftouse, lcols, Signal_Column, 1,  mask=mask)\n",
    "\n",
    "print pipeLR.get_params()['LR__C']\n",
    "print_result(pipeLR, \"Log Regression\")"
   ]
  },
  {
   "cell_type": "code",
   "execution_count": 21,
   "metadata": {
    "collapsed": false
   },
   "outputs": [
    {
     "name": "stdout",
     "output_type": "stream",
     "text": [
      "#############====================== RBF SVM ===========================#############\n",
      "10000000000.0 1e-11\n",
      "train accuracy: 0.688941925219\n",
      "test accuracy: 0.676724137931\n",
      "(5, ['bb_pct', 'plus_di', 'cci', 'rsi', 'stoch_slowk'])\n",
      "ROI baseline:0.0208009318\n",
      "ROI long-only: 0.0961226444\n",
      "ROI short-only: 0.0702277201\n",
      "ROI long-short: 0.1730073331\n",
      "Wall time: 32.1 s\n"
     ]
    }
   ],
   "source": [
    "%%time\n",
    "print \"#############====================== RBF SVM ===========================#############\"\n",
    "pipesvm2 = Pipeline([('selectk', selectk), ('svm2', SVC())])\n",
    "pipesvm2 = do_classify(pipesvm2, {\"selectk__k\":range(1,11), \n",
    "                                  \"svm2__C\": [1e-100, 1e-10, 1e-1, 1, 1e10], \n",
    "                                  \"svm2__gamma\": [ 1e-9, 1e-10, 1e-11]}, \n",
    "                       dftouse, lcols, Signal_Column, 1, mask=mask)\n",
    "\n",
    "print pipesvm2.get_params()['svm2__C'], pipesvm2.get_params()['svm2__gamma']\n",
    "print_result(pipesvm2, \"RBF_SVM\")"
   ]
  },
  {
   "cell_type": "code",
   "execution_count": 22,
   "metadata": {
    "collapsed": false
   },
   "outputs": [
    {
     "name": "stdout",
     "output_type": "stream",
     "text": [
      "#############====================== Random Forest =====================#############\n",
      "3 20 2\n",
      "train accuracy: 0.703261734288\n",
      "test accuracy: 0.685344827586\n",
      "(9, ['bb_pct', 'plus_di', 'cci', 'rsi', 'ult_osc', 'willr', 'stoch_slowk', 'stoch_slowd', 'stoch_fastd'])\n",
      "ROI baseline:0.0208009318\n",
      "ROI long-only: 0.1380506379\n",
      "ROI short-only: 0.1108427158\n",
      "ROI long-short: 0.2644123104\n",
      "Wall time: 1min 34s\n"
     ]
    }
   ],
   "source": [
    "%%time\n",
    "print \"#############====================== Random Forest =====================#############\"\n",
    "pipeRF = Pipeline([('selectk', selectk), ('RF', RandomForestClassifier())])\n",
    "pipeRF = do_classify(pipeRF, {\"selectk__k\": [5,6,7,8,9,10], \"RF__max_depth\": [3,5,7,10], \n",
    "                              \"RF__n_estimators\": [5,10,20,40], \"RF__max_features\": [1,2,3,4,5]}, \n",
    "                     dftouse, lcols, Signal_Column, 1, mask=mask)\n",
    "\n",
    "print pipeRF.get_params()['RF__max_depth'], pipeRF.get_params()['RF__n_estimators'], pipeRF.get_params()['RF__max_features']\n",
    "print_result(pipeRF, \"Random_forest\")"
   ]
  },
  {
   "cell_type": "code",
   "execution_count": 14,
   "metadata": {
    "collapsed": false
   },
   "outputs": [
    {
     "name": "stdout",
     "output_type": "stream",
     "text": [
      "#############====================== Gaussian NB ==========================#############\n",
      "train accuracy: 0.690779014308\n",
      "test accuracy: 0.679653679654\n",
      "(5, ['bb_pct', 'plus_di', 'cci', 'rsi', 'stoch_slowk'])\n",
      "ROI baseline:0.018359966\n",
      "ROI long-only: 0.0934196795\n",
      "ROI short-only: 0.0702277201\n",
      "ROI long-short: 0.170224369\n",
      "Wall time: 599 ms\n"
     ]
    }
   ],
   "source": [
    "%%time\n",
    "print \"#############====================== Gaussian NB ==========================#############\"\n",
    "pipeNB = Pipeline([('selectk', selectk), ('NB', GaussianNB())])\n",
    "pipeNB = do_classify(pipeNB, {\"selectk__k\":range(1,10)},\n",
    "                     dftouse, lcols, Signal_Column, 1, mask=mask)\n",
    "\n",
    "print_result(pipeNB, \"Gaussian_NB\")"
   ]
  },
  {
   "cell_type": "code",
   "execution_count": null,
   "metadata": {
    "collapsed": false,
    "scrolled": true
   },
   "outputs": [],
   "source": [
    "print \"Ticker: \" + ticker\n",
    "print \"ROI baseline: {0}\".format(evaluate_performance(pipeNB, strategy=[1], signal_col=\"baseline\")[0])\n",
    "print \"AVG ROI: {0}\".format(np.average(Long_ROI_result.values()))\n",
    "Long_ROI_result"
   ]
  },
  {
   "cell_type": "markdown",
   "metadata": {},
   "source": [
    "## Visualize trading signal if for 100% accurate"
   ]
  },
  {
   "cell_type": "code",
   "execution_count": null,
   "metadata": {
    "collapsed": false
   },
   "outputs": [],
   "source": [
    "ROI, BOT, signals = evaluate_performance(pipeLR, signal_col= 'result_1', strategy=[1,0])\n",
    "plot_signal('IYZ(Dow Jones US Telecom), trading signal based on 1 day performance, ROI: {0:.2f}%'.format(ROI*100), signals)"
   ]
  },
  {
   "cell_type": "code",
   "execution_count": null,
   "metadata": {
    "collapsed": false
   },
   "outputs": [],
   "source": [
    "ROI, BOT, signals = evaluate_performance(pipeLR, signal_col= 'result_14')\n",
    "plot_signal('IYZ(Dow Jones US Telecom), trading signal based on 14 days performance, ROI: {0:.2f}%'.format(ROI*100), signals)"
   ]
  },
  {
   "cell_type": "code",
   "execution_count": null,
   "metadata": {
    "collapsed": false
   },
   "outputs": [],
   "source": [
    "ROI, BOT, signals = evaluate_performance(pipeLR, signal_col= 'results', strategy=[1])\n",
    "plot_signal('IYZ(Dow Jones US Telecom), trading signal based on moving average, ROI: {0:.2f}%'.format(ROI*100), signals)"
   ]
  },
  {
   "cell_type": "markdown",
   "metadata": {},
   "source": [
    "## Visualize trading signal generated by ML classifiers"
   ]
  },
  {
   "cell_type": "code",
   "execution_count": null,
   "metadata": {
    "collapsed": false
   },
   "outputs": [],
   "source": [
    "## view trading signals of results\n",
    "pipeLR = Pipeline([('selectk', selectk), ('LR', LogisticRegression(penalty=\"l1\"))])\n",
    "pipeLR = do_classify(pipeLR, {\"selectk__k\":range(1, 11), \n",
    "                              \"LR__C\": [1e-3, 1e-2, 1e-1, 1, 1e2]}, \n",
    "                     dftouse, lcols, u'results', 1, mask=mask)\n",
    "ROI, BOT, signals = evaluate_performance(pipeLR)\n",
    "plot_signal('Logistic Regression, results, Long-only, RIO={0}'.format(ROI), signals)"
   ]
  },
  {
   "cell_type": "code",
   "execution_count": null,
   "metadata": {
    "collapsed": false
   },
   "outputs": [],
   "source": [
    "## view trading signals of result_14\n",
    "pipeLR = Pipeline([('selectk', selectk), ('LR', LogisticRegression(penalty=\"l1\"))])\n",
    "pipeLR = do_classify(pipeLR, {\"selectk__k\":range(1, 11), \n",
    "                              \"LR__C\": [1e-3, 1e-2, 1e-1, 1, 1e2]}, \n",
    "                     dftouse, lcols, u'result_14', 1, mask=mask)\n",
    "ROI, BOT, signals = evaluate_performance(pipeLR)\n",
    "plot_signal('Logistic Regression, result_14, Long-only, RIO={0}'.format(ROI), signals)"
   ]
  },
  {
   "cell_type": "code",
   "execution_count": null,
   "metadata": {
    "collapsed": false
   },
   "outputs": [],
   "source": [
    "## view trading signals of result_1\n",
    "pipeLR = Pipeline([('selectk', selectk), ('LR', LogisticRegression(penalty=\"l1\"))])\n",
    "pipeLR = do_classify(pipeLR, {\"selectk__k\":range(1, 11), \n",
    "                              \"LR__C\": [1e-3, 1e-2, 1e-1, 1, 1e2]}, \n",
    "                     dftouse, lcols, u'result_1', 1, mask=mask)\n",
    "ROI, BOT, signals = evaluate_performance(pipeLR)\n",
    "plot_signal('Logistic Regression, result_1, Long-only, RIO={0}'.format(ROI), signals)"
   ]
  }
 ],
 "metadata": {
  "kernelspec": {
   "display_name": "Python 2",
   "language": "python",
   "name": "python2"
  },
  "language_info": {
   "codemirror_mode": {
    "name": "ipython",
    "version": 2
   },
   "file_extension": ".py",
   "mimetype": "text/x-python",
   "name": "python",
   "nbconvert_exporter": "python",
   "pygments_lexer": "ipython2",
   "version": "2.7.10"
  }
 },
 "nbformat": 4,
 "nbformat_minor": 0
}
