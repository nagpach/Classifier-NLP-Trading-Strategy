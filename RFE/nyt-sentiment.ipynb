{
 "cells": [
  {
   "cell_type": "markdown",
   "metadata": {},
   "source": [
    "# Sentiment Analysis using the New York Times API"
   ]
  },
  {
   "cell_type": "code",
   "execution_count": 3,
   "metadata": {
    "collapsed": true
   },
   "outputs": [],
   "source": [
    "# Import statements\n",
    "import csv\n",
    "import pandas as pd\n",
    "import numpy as np\n",
    "import time\n",
    "import re\n",
    "import nltk\n",
    "%matplotlib inline"
   ]
  },
  {
   "cell_type": "code",
   "execution_count": 4,
   "metadata": {
    "collapsed": true
   },
   "outputs": [],
   "source": [
    "# Using API tool with key\n",
    "from nytimesarticle import articleAPI\n",
    "api = articleAPI('51ae5c44eb962681341060ede81808b8:11:73610715')"
   ]
  },
  {
   "cell_type": "code",
   "execution_count": 5,
   "metadata": {
    "collapsed": false
   },
   "outputs": [],
   "source": [
    "# Read in the dates to use for sentiment analysis\n",
    "dframe=pd.read_csv('data/IYZ.csv')\n",
    "date_list = list(dframe['date'])\n",
    "cleaned_dates = []\n",
    "for entry in date_list:\n",
    "    cleaned_dates.append(entry.replace('-', ''))"
   ]
  },
  {
   "cell_type": "code",
   "execution_count": 6,
   "metadata": {
    "collapsed": true
   },
   "outputs": [],
   "source": [
    "# This function takes in a response to the NYT api and parses the articles into a list of dictionaries\n",
    "def parse_articles(articles, datestamp):  \n",
    "    news = []\n",
    "    for i in articles['response']['docs']:\n",
    "        dic = {}\n",
    "        dic['date'] = datestamp\n",
    "        dic['text'] = i['headline']['main'].encode(\"utf8\")\n",
    "        if i['snippet'] is not None:\n",
    "            dic['text'] = dic['text'] + \" \" + i['snippet'].encode(\"utf8\")     \n",
    "        news.append(dic)\n",
    "    return(news) "
   ]
  },
  {
   "cell_type": "code",
   "execution_count": 7,
   "metadata": {
    "collapsed": false
   },
   "outputs": [],
   "source": [
    "# This function accepts a list of dates and returns a dictionary of parsed articles for those dates \n",
    "def get_articles(dates,query):\n",
    "    all_articles = []\n",
    "    for date in dates:\n",
    "        articles = api.search(q = query,\n",
    "                fq = {'news_desk':['Financial']},\n",
    "                begin_date = date,\n",
    "                end_date = date,\n",
    "                sort='oldest')\n",
    "        articles = parse_articles(articles,date)\n",
    "        if len(articles) != 0:\n",
    "            all_articles  = all_articles + articles\n",
    "        time.sleep(0.1)\n",
    "    return(all_articles)"
   ]
  },
  {
   "cell_type": "code",
   "execution_count": 8,
   "metadata": {
    "collapsed": false
   },
   "outputs": [],
   "source": [
    "# Verizon_articles\n",
    "stock_articles = get_articles(cleaned_dates,'Verizon')\n",
    "stock_df = pd.DataFrame.from_dict(stock_articles)"
   ]
  },
  {
   "cell_type": "code",
   "execution_count": 9,
   "metadata": {
    "collapsed": false
   },
   "outputs": [],
   "source": [
    "# Store dataframe in a CSV for future analysis\n",
    "stock_df.to_csv('data/stock.csv')"
   ]
  },
  {
   "cell_type": "code",
   "execution_count": 13,
   "metadata": {
    "collapsed": false
   },
   "outputs": [
    {
     "data": {
      "text/plain": [
       "[]"
      ]
     },
     "execution_count": 13,
     "metadata": {},
     "output_type": "execute_result"
    }
   ],
   "source": [
    "# Read the CSV after manual classification of text as positive or negative\n",
    "verizon_df = pd.read_csv('data/verizon.csv')\n",
    "stock_articles"
   ]
  },
  {
   "cell_type": "code",
   "execution_count": 7,
   "metadata": {
    "collapsed": false
   },
   "outputs": [],
   "source": [
    "# Convert this dataframe back into a dictionary for faster processing\n",
    "clean_dict = verizon_df.to_dict()"
   ]
  },
  {
   "cell_type": "code",
   "execution_count": 8,
   "metadata": {
    "collapsed": false
   },
   "outputs": [],
   "source": [
    "# Tokenize and clean the text\n",
    "def make_sentence(word_arr):\n",
    "    temp_sentence = \"\"\n",
    "    for temp_word in word_arr:\n",
    "        temp_sentence = temp_sentence + temp_word + \" \"\n",
    "    return temp_sentence\n",
    "\n",
    "text_arr = clean_dict['text'].values()\n",
    "regex = re.compile('[^a-zA-Z]')\n",
    "clean_arr = []\n",
    "\n",
    "for sentence in text_arr:\n",
    "    words = sentence.split()\n",
    "    clean_sentence = []\n",
    "    for word in words:\n",
    "        if len(word) < 4:\n",
    "            word = ''\n",
    "        clean_word = regex.sub('', word)\n",
    "        clean_sentence.append(clean_word)\n",
    "    clean_arr.append(make_sentence(clean_sentence))"
   ]
  },
  {
   "cell_type": "code",
   "execution_count": 31,
   "metadata": {
    "collapsed": false
   },
   "outputs": [],
   "source": [
    "# Separate data into training, validation, and test sets and make NLTK input tuples\n",
    "\n",
    "# These lengths are manually derived at this time\n",
    "index_training = 520\n",
    "index_validation = 721\n",
    "\n",
    "training_tups = []\n",
    "validation_tups = []\n",
    "\n",
    "def get_sentiment(list_index):\n",
    "    if clean_dict['sentiment'][i] == 1:\n",
    "        return \"positive\"\n",
    "    else:\n",
    "        return \"negative\"\n",
    "    \n",
    "for i in range(0,index_training):\n",
    "    temp_list = [word.strip().lower() for word in clean_arr[i].split()]\n",
    "    training_tups.append((temp_list,get_sentiment(i)))\n",
    "\n",
    "for i in range(index_training,index_validation):\n",
    "    temp_list = [word.strip().lower() for word in clean_arr[i].split()]\n",
    "    validation_tups.append((temp_list,get_sentiment(i)))"
   ]
  },
  {
   "cell_type": "code",
   "execution_count": 75,
   "metadata": {
    "collapsed": false
   },
   "outputs": [],
   "source": [
    "# Creating the Naive Bayes Classifier\n",
    "\n",
    "def get_words_in_text(text):\n",
    "    all_words = []\n",
    "    for (words, sentiment) in text:\n",
    "        all_words.extend(words)\n",
    "    return all_words\n",
    "\n",
    "def get_word_features(wordlist):\n",
    "    wordlist = nltk.FreqDist(wordlist)\n",
    "    word_features = wordlist.keys()\n",
    "    return word_features\n",
    "\n",
    "word_features = get_word_features(get_words_in_text(training_tups))\n",
    "\n",
    "def extract_features(document):\n",
    "    document_words = set(document)\n",
    "    features = {}\n",
    "    for word in word_features:\n",
    "        features['contains(%s)' % word] = (word in document_words)\n",
    "    return features\n",
    "\n",
    "training_set = nltk.classify.apply_features(extract_features, training_tups)\n",
    "validation_set = nltk.classify.apply_features(extract_features, validation_tups)\n",
    "nb_classifier = nltk.NaiveBayesClassifier.train(training_set)"
   ]
  },
  {
   "cell_type": "code",
   "execution_count": 87,
   "metadata": {
    "collapsed": false
   },
   "outputs": [
    {
     "name": "stdout",
     "output_type": "stream",
     "text": [
      "Most Informative Features\n",
      "         contains(shows) = True           negati : positi =      6.0 : 1.0\n",
      "         contains(costs) = True           negati : positi =      6.0 : 1.0\n",
      "         contains(users) = True           positi : negati =      4.9 : 1.0\n",
      "       contains(goldman) = True           negati : positi =      4.7 : 1.0\n",
      "     contains(questions) = True           negati : positi =      4.7 : 1.0\n",
      "     contains(consumers) = True           negati : positi =      4.7 : 1.0\n",
      "       contains(through) = True           positi : negati =      4.6 : 1.0\n",
      "      contains(motorola) = True           positi : negati =      4.4 : 1.0\n",
      "         contains(sachs) = True           negati : positi =      4.1 : 1.0\n",
      "        contains(strike) = True           negati : positi =      4.1 : 1.0\n",
      "None\n",
      "Accuracy of NB Classifier: 0.447761\n"
     ]
    }
   ],
   "source": [
    "# View the most informative features of NB Classifier and compute accuracy\n",
    "\n",
    "print nb_classifier.show_most_informative_features(10)\n",
    "print \"Accuracy of NB Classifier: %f\"%nltk.classify.accuracy(classifier, validation_set)"
   ]
  },
  {
   "cell_type": "code",
   "execution_count": 103,
   "metadata": {
    "collapsed": false
   },
   "outputs": [
    {
     "name": "stdout",
     "output_type": "stream",
     "text": [
      "  ==> Training (100 iterations)\n",
      "\n",
      "      Iteration    Log Likelihood    Accuracy\n",
      "      ---------------------------------------\n",
      "             1          -0.69315        0.487\n",
      "         Final               nan        0.487\n"
     ]
    }
   ],
   "source": [
    "# Train with Maximum Entropy Classifier\n",
    "\n",
    "me_classifier = nltk.MaxentClassifier.train(training_set,max_iter=100)"
   ]
  },
  {
   "cell_type": "code",
   "execution_count": 89,
   "metadata": {
    "collapsed": false
   },
   "outputs": [
    {
     "name": "stdout",
     "output_type": "stream",
     "text": [
      "     nan contains(corporate)==False and label is 'positive'\n",
      "     nan contains(pressed)==False and label is 'positive'\n",
      "     nan contains(reiterated)==False and label is 'positive'\n",
      "     nan contains(works)==False and label is 'positive'\n",
      "     nan contains(components)==False and label is 'positive'\n",
      "     nan contains(musicrelated)==False and label is 'positive'\n",
      "     nan contains(rapidly)==False and label is 'positive'\n",
      "     nan contains(evolve)==False and label is 'positive'\n",
      "     nan contains(repurchase)==False and label is 'positive'\n",
      "     nan contains(hewlettpackards)==False and label is 'positive'\n",
      "None\n",
      "Accuracy of ME Classifier: 0.582090\n"
     ]
    }
   ],
   "source": [
    "# View the most informative features of ME Classifier and compute accuracy\n",
    "\n",
    "print me_classifier.show_most_informative_features(10)\n",
    "print \"Accuracy of ME Classifier: %f\"%nltk.classify.accuracy(me_classifier, validation_set)"
   ]
  },
  {
   "cell_type": "code",
   "execution_count": 126,
   "metadata": {
    "collapsed": false
   },
   "outputs": [
    {
     "data": {
      "text/html": [
       "<div>\n",
       "<table border=\"1\" class=\"dataframe\">\n",
       "  <thead>\n",
       "    <tr style=\"text-align: right;\">\n",
       "      <th></th>\n",
       "      <th>0</th>\n",
       "      <th>1</th>\n",
       "    </tr>\n",
       "  </thead>\n",
       "  <tbody>\n",
       "    <tr>\n",
       "      <th>0</th>\n",
       "      <td>20100108</td>\n",
       "      <td>99.971960</td>\n",
       "    </tr>\n",
       "    <tr>\n",
       "      <th>1</th>\n",
       "      <td>20120405</td>\n",
       "      <td>-57.750428</td>\n",
       "    </tr>\n",
       "    <tr>\n",
       "      <th>2</th>\n",
       "      <td>20120404</td>\n",
       "      <td>-99.516695</td>\n",
       "    </tr>\n",
       "    <tr>\n",
       "      <th>3</th>\n",
       "      <td>20120403</td>\n",
       "      <td>-99.978413</td>\n",
       "    </tr>\n",
       "    <tr>\n",
       "      <th>4</th>\n",
       "      <td>20120402</td>\n",
       "      <td>60.633337</td>\n",
       "    </tr>\n",
       "  </tbody>\n",
       "</table>\n",
       "</div>"
      ],
      "text/plain": [
       "          0          1\n",
       "0  20100108  99.971960\n",
       "1  20120405 -57.750428\n",
       "2  20120404 -99.516695\n",
       "3  20120403 -99.978413\n",
       "4  20120402  60.633337"
      ]
     },
     "execution_count": 126,
     "metadata": {},
     "output_type": "execute_result"
    }
   ],
   "source": [
    "# Calculate sentiment scores for the entire dataset and store in CSV\n",
    "\n",
    "sentiment_scores = []\n",
    "for headline in clean_arr:\n",
    "    temp_prob_dist = nb_classifier.prob_classify(extract_features(headline.lower().split()))\n",
    "    score = temp_prob_dist.prob(temp_prob_dist.max())\n",
    "    if temp_prob_dist.max() == 'positive':\n",
    "        sentiment_scores.append(score*100)\n",
    "    else:\n",
    "        sentiment_scores.append(-100.*score)\n",
    "\n",
    "sentiment_dict = dict(zip(cleaned_dates,sentiment_scores))\n",
    "sentiment_df = pd.DataFrame.from_dict(sentiment_dict.items())\n",
    "sentiment_df.to_csv('data/sentiment-scores.csv')\n",
    "sentiment_df.head(5)"
   ]
  }
 ],
 "metadata": {
  "kernelspec": {
   "display_name": "Python 2",
   "language": "python",
   "name": "python2"
  },
  "language_info": {
   "codemirror_mode": {
    "name": "ipython",
    "version": 2
   },
   "file_extension": ".py",
   "mimetype": "text/x-python",
   "name": "python",
   "nbconvert_exporter": "python",
   "pygments_lexer": "ipython2",
   "version": "2.7.10"
  }
 },
 "nbformat": 4,
 "nbformat_minor": 0
}
